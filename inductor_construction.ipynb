{
 "cells": [
  {
   "attachments": {},
   "cell_type": "markdown",
   "metadata": {},
   "source": [
    "### Parametros do inversor\n"
   ]
  },
  {
   "attachments": {},
   "cell_type": "markdown",
   "metadata": {},
   "source": [
    "| Parâmetro | Valor |\n",
    "|----------|----------|\n",
    "| Potencia aparente (S)| 1kVA | \n",
    "| Tensão (Vc = Vg)| 127V|\n",
    "| Frequência (fg) | 60Hz |\n",
    "| Corrente máxima ($I_{max}$)  | 11.135A $_{peak}$ |\n",
    "| Ripple máximo ($\\Delta I_{max}$) | 1.13A |\n",
    "| Topologia da ponte | Full Bridge |\n",
    "| Indice de modulação | 0.8 |\n",
    "| Tensão CC ($V_{DC}$) | 225V |\n",
    "| Freq. chaveamento(fsw) | 24kHz |\n",
    "| Freq. amostragem(fs) | 48kHz |"
   ]
  },
  {
   "cell_type": "markdown",
   "metadata": {},
   "source": [
    "\n",
    "### Dimensionando número de espiras\n",
    "\n",
    "Para a construção do indutor, começamos com um nucleo já pré determinado e fornecido. Iremos usar o indutor de _part number_ [MMT034T10233](https://www.magmattec.com.br/wp-content/uploads/2019/03/MATERIAL-034_01.pdf).\n",
    "\n",
    "Para a construção do indutor de 300uH, iremos usar a formula a seguir, que nos fornece o numero de espiras com base na indutância desejada e no parametro _Al_ disponivel no _datasheet_ do nucleo.\n",
    "\n",
    "$$N=\\sqrt{\\frac{L}{Al}} \\tag{1}$$\n",
    "\n",
    "De acordo com o datasheet, $Al=110nH/esp^2$, assim teremos;"
   ]
  },
  {
   "cell_type": "code",
   "execution_count": 8,
   "metadata": {},
   "outputs": [],
   "source": [
    "import math\n",
    "Al = 110e-9\n",
    "L = 300e-6"
   ]
  },
  {
   "cell_type": "code",
   "execution_count": 9,
   "metadata": {},
   "outputs": [
    {
     "data": {
      "text/plain": [
       "52.22329678670935"
      ]
     },
     "execution_count": 9,
     "metadata": {},
     "output_type": "execute_result"
    }
   ],
   "source": [
    "N = math.sqrt(L/Al)\n",
    "N"
   ]
  },
  {
   "cell_type": "markdown",
   "metadata": {},
   "source": [
    "Vamos arredondar o **número de espiras para 52** e seguir com a construção do indutor. A próxima fórmula que iremos usar também serve para achar o numero de espiras, mas usaremos para encontrar o valor da densidade de campo Bm.\n",
    "\n",
    "$$N=\\frac{L \\cdot I_{pico}}{B_m \\cdot A_e} \\cdot 10^4 \\tag{2}$$\n",
    "\n",
    "O fator $10^4$ usado na equação serve para que possamos usar a área de secção do núcleo em $cm^2$. Caso o valor esteja em $m^2$, não é necessário o uso do fator multiplicativo.\n",
    "\n",
    "A corrente de pico que iremos usar, será a corrente máxima somada à metade do ripple de corrente,\n"
   ]
  },
  {
   "cell_type": "code",
   "execution_count": 10,
   "metadata": {},
   "outputs": [
    {
     "data": {
      "text/plain": [
       "11.7"
      ]
     },
     "execution_count": 10,
     "metadata": {},
     "output_type": "execute_result"
    }
   ],
   "source": [
    "I_max = 11.135\n",
    "I_ripple = 1.13\n",
    "\n",
    "I_pico = I_max + I_ripple/2\n",
    "I_pico"
   ]
  },
  {
   "cell_type": "markdown",
   "metadata": {},
   "source": [
    "A área efetiva do núcleo toroidal é dada pela folha de dados do fabricante e, para nosso caso, essa tem o valor de 6.85 $cm^2$\n",
    "\n",
    "O valor de densidade de campo será,"
   ]
  },
  {
   "cell_type": "code",
   "execution_count": 15,
   "metadata": {},
   "outputs": [
    {
     "data": {
      "text/plain": [
       "[0.0981188072474380]"
      ]
     },
     "execution_count": 15,
     "metadata": {},
     "output_type": "execute_result"
    }
   ],
   "source": [
    "import sympy as sp\n",
    "\n",
    "A_e = 6.85\n",
    "B_m = sp.symbols(\"B_m\")\n",
    "\n",
    "B_m = sp.solve(Eq((L*I_pico*10**4)/(B_m*A_e),N), B_m)\n",
    "B_m"
   ]
  },
  {
   "cell_type": "markdown",
   "metadata": {},
   "source": [
    "A densidade máxima do nucleo que estmaos usando é de 10 000 Gauss, que equivale a 1,1 Tesla. Sendo assim, estamos usando na operação uma pequena faixa da densidade de campo que o nucleo pode suportar sem que entre na região de saturação. Esse uso deve ficar em torno de no máximo 50 a 70% da capacidade máxima do mesmo. No nosso caso temos uma relação de uso de;"
   ]
  },
  {
   "cell_type": "code",
   "execution_count": 30,
   "metadata": {},
   "outputs": [
    {
     "data": {
      "text/plain": [
       "0.08919891567948911"
      ]
     },
     "execution_count": 30,
     "metadata": {},
     "output_type": "execute_result"
    }
   ],
   "source": [
    "B_m_max = 1.1\n",
    "\n",
    "B_relation_to_max = float(B_m[0]/1.1)\n",
    "B_relation_to_max\n"
   ]
  },
  {
   "cell_type": "markdown",
   "metadata": {},
   "source": [
    "Prosseguindo com os cálculos, iremos agora calcular a área da janela usada pelo indutor. Vamos considerar o valor de espiras $N$ encontrado, uma densidade de corrente máxima $J_{máx}$ de 4.5 $A/mm^2$. O fator de ocupação $K_w$ para núcleos toroidais fica abaixo de 0.3. Usaremos $K_w = 0.2$. Assim, teremos para $A_j$:\n",
    "\n",
    "$$\n",
    "\\begin{align}\n",
    "A_j = \\frac{N \\cdot I_{ef}}{J_{max} \\cdot K_w} \\tag{3}\n",
    "\\end{align}\n",
    "$$"
   ]
  },
  {
   "cell_type": "code",
   "execution_count": 39,
   "metadata": {},
   "outputs": [
    {
     "data": {
      "text/plain": [
       "4.8005681481939755"
      ]
     },
     "execution_count": 39,
     "metadata": {},
     "output_type": "execute_result"
    }
   ],
   "source": [
    "K_w = 0.2\n",
    "J_max =  4.5/0.01 #converting from A/mm^2 to A/cm^2\n",
    "I_ef = I_pico/math.sqrt(2)\n",
    "\n",
    "Aj = (N*I_ef)/(J_max*K_w)\n",
    "Aj"
   ]
  },
  {
   "cell_type": "markdown",
   "metadata": {},
   "source": [
    "Temos assim, $A_j = 4.8 cm^2$.\n",
    "No datasheet do núcleo, podemos verificar a área de janela disponível, uma vez que temos acesso ao raio interno do toróide, 5.72 $cm$, resultando então em uma área de janela física de:"
   ]
  },
  {
   "cell_type": "code",
   "execution_count": 40,
   "metadata": {},
   "outputs": [
    {
     "data": {
      "text/plain": [
       "102.78788507721227"
      ]
     },
     "execution_count": 40,
     "metadata": {},
     "output_type": "execute_result"
    }
   ],
   "source": [
    "math.pi * 5.72**2"
   ]
  },
  {
   "cell_type": "markdown",
   "metadata": {},
   "source": [
    "Então podemos concluir que a área disponível é mais que suficiente para a realização do enrolamento do fio no nucleo fornecido. $A_{j\\:usado} < A_{j\\:disponivel}$\n",
    "\n",
    "### Dimensionamento do condutor\n",
    "\n",
    "O condutor a ser usado na construção do indutor precisará ter secção capaz de suportar a corrente de operação do circuito. Para isso usaremos a fórmula (4) para encontrar qual a secção ideal deste fio,\n",
    "\n",
    "$$S_f = \\frac{I_{ef}}{J_{máx}} \\tag{4}$$"
   ]
  },
  {
   "cell_type": "code",
   "execution_count": 43,
   "metadata": {},
   "outputs": [
    {
     "data": {
      "text/plain": [
       "1.8384776310850235"
      ]
     },
     "execution_count": 43,
     "metadata": {},
     "output_type": "execute_result"
    }
   ],
   "source": [
    "S_f = I_ef/(J_max*0.01) #multiplying by 0.01 to convert from cm^2 to mm^2\n",
    "S_f"
   ]
  },
  {
   "cell_type": "markdown",
   "metadata": {},
   "source": [
    "A secção ideal deste fio é então $S_f = 1.83\\:mm^2$.\n",
    "\n",
    "O próximo passo é aferir qual o impacto da frequência de chaveamento na seleção deste condutor. Para isso iremos usar a fórmula (5). Caso a secção condutora deste condutor seja menor do que $S_f$, será necessário utilizar vários condutores em paralelo até atingir uma secção igual ou superior a de $S_f$\n",
    "\n",
    "$$\\gamma = \\sqrt{\\frac{4.35 \\cdot 10^{-3}}{f}} \\tag{5}$$"
   ]
  },
  {
   "cell_type": "code",
   "execution_count": 48,
   "metadata": {},
   "outputs": [
    {
     "data": {
      "text/plain": [
       "0.0003010398644698074"
      ]
     },
     "execution_count": 48,
     "metadata": {},
     "output_type": "execute_result"
    }
   ],
   "source": [
    "freq = 48e3\n",
    "gamma = math.sqrt(4.35e-3/freq)\n",
    "gamma"
   ]
  },
  {
   "cell_type": "markdown",
   "metadata": {},
   "source": [
    "Obtemos então que, $\\gamma = 0.3\\:mm$. Isso implica que, podemos usar um fio com diâmetro de $0.6\\,mm$ sem desperdício algum de material."
   ]
  },
  {
   "cell_type": "code",
   "execution_count": 50,
   "metadata": {},
   "outputs": [
    {
     "data": {
      "text/plain": [
       "2.9608813203268074"
      ]
     },
     "execution_count": 50,
     "metadata": {},
     "output_type": "execute_result"
    }
   ],
   "source": [
    "0.3*math.pi**2"
   ]
  },
  {
   "cell_type": "code",
   "execution_count": null,
   "metadata": {},
   "outputs": [],
   "source": []
  }
 ],
 "metadata": {
  "kernelspec": {
   "display_name": "Python 3",
   "language": "python",
   "name": "python3"
  },
  "language_info": {
   "codemirror_mode": {
    "name": "ipython",
    "version": 3
   },
   "file_extension": ".py",
   "mimetype": "text/x-python",
   "name": "python",
   "nbconvert_exporter": "python",
   "pygments_lexer": "ipython3",
   "version": "3.11.2"
  },
  "orig_nbformat": 4,
  "vscode": {
   "interpreter": {
    "hash": "5238573367df39f7286bb46f9ff5f08f63a01a80960060ce41e3c79b190280fa"
   }
  }
 },
 "nbformat": 4,
 "nbformat_minor": 2
}
