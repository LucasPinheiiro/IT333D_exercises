{
 "cells": [
  {
   "attachments": {},
   "cell_type": "markdown",
   "metadata": {},
   "source": [
    "### Parametros do inversor\n"
   ]
  },
  {
   "attachments": {},
   "cell_type": "markdown",
   "metadata": {},
   "source": [
    "| Parâmetro | Valor |\n",
    "|----------|----------|\n",
    "| Potencia aparente (S)| 1kVA | \n",
    "| Tensão (Vc = Vg)| 127V|\n",
    "| Frequência (fg) | 60Hz |\n",
    "| Corrente máxima ($I_{max}$)  | 11.135A $_{peak}$ |\n",
    "| Ripple máximo ($\\Delta I_{max}$) | 1.13A |\n",
    "| Topologia da ponte | Full Bridge |\n",
    "| Indice de modulação | 0.8 |\n",
    "| Tensão CC ($V_{DC}$) | 225V |\n",
    "| Freq. chaveamento(fsw) | 24kHz |\n",
    "| Freq. amostragem(fs) | 48kHz |"
   ]
  },
  {
   "cell_type": "markdown",
   "metadata": {},
   "source": [
    "\n",
    "### Construção de indutor\n",
    "\n",
    "Para a construção do indutor, começamos com um nucleo já pré determinado e fornecido. Iremos usar o indutor de _part number_ [MMT034T10233](https://www.magmattec.com.br/wp-content/uploads/2019/03/MATERIAL-034_01.pdf).\n",
    "\n",
    "Para a construção do indutor de 300uH, iremos usar a formula a seguir, que nos fornece o numero de espiras com base na indutância desejada e no parametro _Al_ disponivel no _datasheet_ do nucleo.\n",
    "\n",
    "$$N=\\sqrt{\\frac{L}{Al}}$$\n",
    "\n",
    "De acordo com o datasheet, $Al=110nH/esp^2$, assim teremos;"
   ]
  },
  {
   "cell_type": "code",
   "execution_count": 12,
   "metadata": {},
   "outputs": [],
   "source": [
    "import math\n",
    "Al = 110e-9\n",
    "L = 300e-6"
   ]
  },
  {
   "cell_type": "code",
   "execution_count": 13,
   "metadata": {},
   "outputs": [
    {
     "data": {
      "text/plain": [
       "52.22329678670935"
      ]
     },
     "execution_count": 13,
     "metadata": {},
     "output_type": "execute_result"
    }
   ],
   "source": [
    "N = math.sqrt(L/Al)\n",
    "N"
   ]
  },
  {
   "cell_type": "markdown",
   "metadata": {},
   "source": [
    "Vamos arredondar o **número de espiras para 53** e seguir com a construção do indutor. A próxima fórmula que iremos usar também serve para achar o numero de espiras, mas usaremos para encontrar o valor da densidade de campo Bm.\n",
    "\n",
    "$$N=\\frac{L \\cdot I_{pico}}{B_m \\cdot A_e} \\cdot 10^4$$\n",
    "\n",
    "O fator $10^4$ usado na equação serve para que possamos usar a área de secção do núcleo em $cm^2$. Caso o valor esteja em $m^2$, não é necessário o uso do fator multiplicativo.\n",
    "\n",
    "A corrente de pico que iremos usar, será a corrente máxima somada à metade do ripple de corrente,\n"
   ]
  },
  {
   "cell_type": "code",
   "execution_count": 14,
   "metadata": {},
   "outputs": [
    {
     "data": {
      "text/plain": [
       "11.7"
      ]
     },
     "execution_count": 14,
     "metadata": {},
     "output_type": "execute_result"
    }
   ],
   "source": [
    "I_max = 11.135\n",
    "I_ripple = 1.13\n",
    "\n",
    "I_pico = I_max + I_ripple/2\n",
    "I_pico"
   ]
  },
  {
   "cell_type": "markdown",
   "metadata": {},
   "source": [
    "A área efetiva do núcleo toroidal é dada pela folha de dados do fabricante e, para nosso caso, essa tem o valor de 6.85 $cm^2$\n",
    "\n",
    "O valor de densidade de campo será,"
   ]
  },
  {
   "cell_type": "code",
   "execution_count": 19,
   "metadata": {},
   "outputs": [
    {
     "name": "stdout",
     "output_type": "stream",
     "text": [
      "[9.81188072474380e-6]\n"
     ]
    }
   ],
   "source": [
    "import sympy as sp\n",
    "\n",
    "A_e = 6.85\n",
    "B_m = sp.symbols(\"B_m\")\n",
    "\n",
    "print(sp.solve(Eq((L*I_pico)/(B_m*A_e),N), B_m))"
   ]
  },
  {
   "cell_type": "markdown",
   "metadata": {},
   "source": []
  }
 ],
 "metadata": {
  "kernelspec": {
   "display_name": "Python 3",
   "language": "python",
   "name": "python3"
  },
  "language_info": {
   "codemirror_mode": {
    "name": "ipython",
    "version": 3
   },
   "file_extension": ".py",
   "mimetype": "text/x-python",
   "name": "python",
   "nbconvert_exporter": "python",
   "pygments_lexer": "ipython3",
   "version": "3.11.2"
  },
  "orig_nbformat": 4,
  "vscode": {
   "interpreter": {
    "hash": "5238573367df39f7286bb46f9ff5f08f63a01a80960060ce41e3c79b190280fa"
   }
  }
 },
 "nbformat": 4,
 "nbformat_minor": 2
}
