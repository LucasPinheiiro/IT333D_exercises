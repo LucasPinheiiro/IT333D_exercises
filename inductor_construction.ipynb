{
 "cells": [
  {
   "attachments": {},
   "cell_type": "markdown",
   "metadata": {},
   "source": [
    "### Parametros do inversor\n"
   ]
  },
  {
   "attachments": {},
   "cell_type": "markdown",
   "metadata": {},
   "source": [
    "| Parâmetro | Valor |\n",
    "|----------|----------|\n",
    "| Potencia aparente (S)| 1kVA | \n",
    "| Tensão (Vc = Vg)| 127V|\n",
    "| Frequência (fg) | 60Hz |\n",
    "| Corrente máxima ($I_{max}$)  | 11.135A $_{peak}$ |\n",
    "| Ripple máximo ($\\Delta I_{max}$) | 1.13A |\n",
    "| Topologia da ponte | Full Bridge |\n",
    "| Indice de modulação | 0.8 |\n",
    "| Tensão CC ($V_{DC}$) | 225V |\n",
    "| Freq. chaveamento(fsw) | 24kHz |\n",
    "| Freq. amostragem(fs) | 48kHz |"
   ]
  },
  {
   "cell_type": "markdown",
   "metadata": {},
   "source": [
    "\n",
    "### Construção de indutor\n",
    "\n",
    "Para a construção do indutor, começamos com um nucleo já pré determinado e fornecido. Iremos usar o indutor de _part number_ MT034T10233.\n",
    "\n",
    "Para a construção do indutor de 300uH, iremos usar a formula a seguir, que nos fornece o numero de espiras com base na indutância desejada e no parametro _Al_ disponivel no _datasheet_ do nucleo.\n",
    "\n",
    "$$N=\\sqrt{\\frac{L}{Al}}$$\n",
    "\n",
    "De acordo com o datasheet, $Al=110nH/esp^2$, assim teremos;"
   ]
  },
  {
   "cell_type": "markdown",
   "metadata": {},
   "source": []
  },
  {
   "cell_type": "code",
   "execution_count": 2,
   "metadata": {},
   "outputs": [],
   "source": [
    "import math\n",
    "Al = 110e-9\n",
    "L = 300e-6"
   ]
  },
  {
   "cell_type": "code",
   "execution_count": 5,
   "metadata": {},
   "outputs": [
    {
     "data": {
      "text/plain": [
       "52.22329678670935"
      ]
     },
     "execution_count": 5,
     "metadata": {},
     "output_type": "execute_result"
    }
   ],
   "source": [
    "N = math.sqrt(L/Al)\n",
    "N"
   ]
  }
 ],
 "metadata": {
  "kernelspec": {
   "display_name": "Python 3",
   "language": "python",
   "name": "python3"
  },
  "language_info": {
   "codemirror_mode": {
    "name": "ipython",
    "version": 3
   },
   "file_extension": ".py",
   "mimetype": "text/x-python",
   "name": "python",
   "nbconvert_exporter": "python",
   "pygments_lexer": "ipython3",
   "version": "3.11.2"
  },
  "orig_nbformat": 4,
  "vscode": {
   "interpreter": {
    "hash": "5238573367df39f7286bb46f9ff5f08f63a01a80960060ce41e3c79b190280fa"
   }
  }
 },
 "nbformat": 4,
 "nbformat_minor": 2
}
